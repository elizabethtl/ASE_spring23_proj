{
 "cells": [
  {
   "cell_type": "code",
   "execution_count": 1,
   "metadata": {},
   "outputs": [],
   "source": [
    "import matplotlib.pyplot as plt\n",
    "import csv\n",
    "\n",
    "import os\n",
    "# dir_path = os.path.abspath(os.path.dirname(__file__))\n",
    "dir_path = '/home/etlin/Documents/ncsu/spring2023_csc791_ase/ASE_spring23_proj/data'"
   ]
  },
  {
   "attachments": {},
   "cell_type": "markdown",
   "metadata": {},
   "source": [
    "## nasa93dem.csv"
   ]
  },
  {
   "cell_type": "code",
   "execution_count": 2,
   "metadata": {},
   "outputs": [],
   "source": [
    "headers = []\n",
    "data_rows = []\n",
    "\n",
    "with open(dir_path+'/nasa93dem.csv', newline='') as csvfile:\n",
    "  file_data = csv.reader(csvfile, delimiter=',')\n",
    "  count = 0\n",
    "  for row in file_data:\n",
    "    count += 1\n",
    "    if count == 1:\n",
    "      headers = row\n",
    "    else:\n",
    "      data_rows.append(row)"
   ]
  },
  {
   "cell_type": "code",
   "execution_count": 3,
   "metadata": {},
   "outputs": [
    {
     "data": {
      "text/plain": [
       "94"
      ]
     },
     "execution_count": 3,
     "metadata": {},
     "output_type": "execute_result"
    }
   ],
   "source": [
    "count"
   ]
  },
  {
   "cell_type": "code",
   "execution_count": 4,
   "metadata": {},
   "outputs": [
    {
     "data": {
      "text/plain": [
       "['idX',\n",
       " 'centerX',\n",
       " 'YearX',\n",
       " 'prec',\n",
       " 'flex',\n",
       " 'resl',\n",
       " 'team',\n",
       " 'pmat',\n",
       " 'rely',\n",
       " 'data',\n",
       " 'cplx',\n",
       " 'ruse',\n",
       " 'docu',\n",
       " 'time',\n",
       " 'stor',\n",
       " 'pvol',\n",
       " 'acap',\n",
       " 'pcap',\n",
       " 'pcon',\n",
       " 'apex',\n",
       " 'plex',\n",
       " 'ltex',\n",
       " 'tool',\n",
       " 'site',\n",
       " 'sced',\n",
       " 'Kloc+',\n",
       " 'Effort-',\n",
       " 'Defects-',\n",
       " 'Months-']"
      ]
     },
     "execution_count": 4,
     "metadata": {},
     "output_type": "execute_result"
    }
   ],
   "source": [
    "headers"
   ]
  },
  {
   "cell_type": "code",
   "execution_count": 5,
   "metadata": {},
   "outputs": [],
   "source": [
    "target_cols = {}\n",
    "\n",
    "for col in headers:\n",
    "  if col.endswith('+') or col.endswith('-'):\n",
    "    target_cols[col] = []    "
   ]
  },
  {
   "cell_type": "code",
   "execution_count": 6,
   "metadata": {},
   "outputs": [
    {
     "data": {
      "text/plain": [
       "{'Kloc+': [], 'Effort-': [], 'Defects-': [], 'Months-': []}"
      ]
     },
     "execution_count": 6,
     "metadata": {},
     "output_type": "execute_result"
    }
   ],
   "source": [
    "target_cols"
   ]
  },
  {
   "cell_type": "code",
   "execution_count": 7,
   "metadata": {},
   "outputs": [],
   "source": [
    "\n",
    "for row in data_rows:\n",
    "  for header in target_cols:\n",
    "    # print(header)\n",
    "    index = headers.index(header)\n",
    "    target_cols[header].append(float(row[index]))"
   ]
  },
  {
   "attachments": {},
   "cell_type": "markdown",
   "metadata": {},
   "source": [
    "#### Kloc+"
   ]
  },
  {
   "cell_type": "code",
   "execution_count": 8,
   "metadata": {},
   "outputs": [
    {
     "data": {
      "text/plain": [
       "94.02204301075268"
      ]
     },
     "execution_count": 8,
     "metadata": {},
     "output_type": "execute_result"
    }
   ],
   "source": [
    "sum(target_cols['Kloc+'])/len(target_cols['Kloc+'])"
   ]
  },
  {
   "cell_type": "code",
   "execution_count": 9,
   "metadata": {},
   "outputs": [
    {
     "data": {
      "image/png": "[encoded data removed]",
      "text/plain": [
       "<Figure size 1000x200 with 1 Axes>"
      ]
     },
     "metadata": {},
     "output_type": "display_data"
    }
   ],
   "source": [
    "fig = plt.figure(figsize =(10, 2))\n",
    " \n",
    "# Creating plot\n",
    "plt.boxplot(target_cols['Kloc+'], vert=False)\n",
    " \n",
    "# show plot\n",
    "plt.show()"
   ]
  },
  {
   "attachments": {},
   "cell_type": "markdown",
   "metadata": {},
   "source": [
    "#### Effort-"
   ]
  },
  {
   "cell_type": "code",
   "execution_count": 10,
   "metadata": {},
   "outputs": [
    {
     "data": {
      "text/plain": [
       "624.4118279569892"
      ]
     },
     "execution_count": 10,
     "metadata": {},
     "output_type": "execute_result"
    }
   ],
   "source": [
    "sum(target_cols['Effort-'])/len(target_cols['Effort-'])"
   ]
  },
  {
   "cell_type": "code",
   "execution_count": 11,
   "metadata": {},
   "outputs": [
    {
     "data": {
      "image/png": "[encoded data removed]",
      "text/plain": [
       "<Figure size 1000x200 with 1 Axes>"
      ]
     },
     "metadata": {},
     "output_type": "display_data"
    }
   ],
   "source": [
    "fig = plt.figure(figsize =(10, 2))\n",
    " \n",
    "# Creating plot\n",
    "plt.boxplot(target_cols['Effort-'], vert=False)\n",
    " \n",
    "# show plot\n",
    "plt.show()"
   ]
  },
  {
   "attachments": {},
   "cell_type": "markdown",
   "metadata": {},
   "source": [
    "#### Defects-"
   ]
  },
  {
   "cell_type": "code",
   "execution_count": 12,
   "metadata": {},
   "outputs": [
    {
     "data": {
      "text/plain": [
       "3761.7634408602153"
      ]
     },
     "execution_count": 12,
     "metadata": {},
     "output_type": "execute_result"
    }
   ],
   "source": [
    "sum(target_cols['Defects-'])/len(target_cols['Defects-'])"
   ]
  },
  {
   "cell_type": "code",
   "execution_count": 13,
   "metadata": {},
   "outputs": [
    {
     "data": {
      "image/png": "[encoded data removed]",
      "text/plain": [
       "<Figure size 1000x200 with 1 Axes>"
      ]
     },
     "metadata": {},
     "output_type": "display_data"
    }
   ],
   "source": [
    "fig = plt.figure(figsize =(10, 2))\n",
    " \n",
    "# Creating plot\n",
    "plt.boxplot(target_cols['Defects-'], vert=False)\n",
    " \n",
    "# show plot\n",
    "plt.show()"
   ]
  },
  {
   "attachments": {},
   "cell_type": "markdown",
   "metadata": {},
   "source": [
    "### Months-"
   ]
  },
  {
   "cell_type": "code",
   "execution_count": 14,
   "metadata": {},
   "outputs": [
    {
     "data": {
      "text/plain": [
       "24.176344086021512"
      ]
     },
     "execution_count": 14,
     "metadata": {},
     "output_type": "execute_result"
    }
   ],
   "source": [
    "sum(target_cols['Months-'])/len(target_cols['Months-'])"
   ]
  },
  {
   "cell_type": "code",
   "execution_count": 15,
   "metadata": {},
   "outputs": [
    {
     "data": {
      "image/png": "[encoded data removed]",
      "text/plain": [
       "<Figure size 1000x200 with 1 Axes>"
      ]
     },
     "metadata": {},
     "output_type": "display_data"
    }
   ],
   "source": [
    "fig = plt.figure(figsize =(10, 2))\n",
    " \n",
    "# Creating plot\n",
    "plt.boxplot(target_cols['Months-'], vert=False)\n",
    " \n",
    "# show plot\n",
    "plt.show()"
   ]
  },
  {
   "cell_type": "code",
   "execution_count": 16,
   "metadata": {},
   "outputs": [
    {
     "name": "stdout",
     "output_type": "stream",
     "text": [
      "Kloc+\n",
      "mean: 94.02204301075268\n",
      "median: 47.5\n",
      "mode: 100.0\n",
      "std dev: 133.5979471867733\n",
      "\n",
      "Effort-\n",
      "mean: 624.4118279569892\n",
      "median: 252.0\n",
      "mode: 60.0\n",
      "std dev: 1135.9280652026785\n",
      "\n",
      "Defects-\n",
      "mean: 3761.7634408602153\n",
      "median: 2007.0\n",
      "mode: 2077.0\n",
      "std dev: 6145.055586471356\n",
      "\n",
      "Months-\n",
      "mean: 24.176344086021505\n",
      "median: 21.4\n",
      "mode: 13.6\n",
      "std dev: 12.967219522364363\n",
      "\n"
     ]
    }
   ],
   "source": [
    "import statistics\n",
    "for col in target_cols.keys():\n",
    "  print(col)\n",
    "  print('mean:', statistics.mean(target_cols[col]))\n",
    "  print('median:', statistics.median(target_cols[col]))\n",
    "  print('mode:', statistics.mode(target_cols[col]))\n",
    "  print('std dev:', statistics.stdev(target_cols[col]))\n",
    "  print()"
   ]
  }
 ],
 "metadata": {
  "kernelspec": {
   "display_name": "Python 3",
   "language": "python",
   "name": "python3"
  },
  "language_info": {
   "codemirror_mode": {
    "name": "ipython",
    "version": 3
   },
   "file_extension": ".py",
   "mimetype": "text/x-python",
   "name": "python",
   "nbconvert_exporter": "python",
   "pygments_lexer": "ipython3",
   "version": "3.10.6"
  },
  "orig_nbformat": 4
 },
 "nbformat": 4,
 "nbformat_minor": 2
}
