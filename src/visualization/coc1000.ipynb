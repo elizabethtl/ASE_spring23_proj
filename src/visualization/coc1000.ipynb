{
 "cells": [
  {
   "cell_type": "code",
   "execution_count": 1,
   "metadata": {},
   "outputs": [],
   "source": [
    "import matplotlib.pyplot as plt\n",
    "import csv\n",
    "\n",
    "import os\n",
    "# dir_path = os.path.abspath(os.path.dirname(__file__))\n",
    "dir_path = '/home/etlin/Documents/ncsu/spring2023_csc791_ase/ASE_spring23_proj/data'"
   ]
  },
  {
   "attachments": {},
   "cell_type": "markdown",
   "metadata": {},
   "source": [
    "## coc1000.csv"
   ]
  },
  {
   "cell_type": "code",
   "execution_count": 2,
   "metadata": {},
   "outputs": [],
   "source": [
    "headers = []\n",
    "data_rows = []\n",
    "\n",
    "with open(dir_path+'/coc1000.csv', newline='') as csvfile:\n",
    "  file_data = csv.reader(csvfile, delimiter=',')\n",
    "  count = 0\n",
    "  for row in file_data:\n",
    "    count += 1\n",
    "    if count == 1:\n",
    "      headers = row\n",
    "    else:\n",
    "      data_rows.append(row)"
   ]
  },
  {
   "cell_type": "code",
   "execution_count": 3,
   "metadata": {},
   "outputs": [
    {
     "data": {
      "text/plain": [
       "1001"
      ]
     },
     "execution_count": 3,
     "metadata": {},
     "output_type": "execute_result"
    }
   ],
   "source": [
    "count"
   ]
  },
  {
   "cell_type": "code",
   "execution_count": 4,
   "metadata": {},
   "outputs": [
    {
     "data": {
      "text/plain": [
       "['LOC+',\n",
       " ' ACAP',\n",
       " ' AEXP-',\n",
       " ' ARCH',\n",
       " ' CPLX',\n",
       " ' DATA',\n",
       " ' DOCU',\n",
       " ' FLEX',\n",
       " ' LTEX',\n",
       " ' PCAP',\n",
       " ' PCON',\n",
       " ' PLEX-',\n",
       " ' PMAT',\n",
       " ' PREC',\n",
       " ' PVOL',\n",
       " ' RELY',\n",
       " ' RUSE',\n",
       " ' SCED',\n",
       " ' SITE',\n",
       " ' STOR',\n",
       " ' TEAM',\n",
       " ' TIME',\n",
       " ' TOOL',\n",
       " ' RISK-',\n",
       " ' EFFORT-']"
      ]
     },
     "execution_count": 4,
     "metadata": {},
     "output_type": "execute_result"
    }
   ],
   "source": [
    "headers"
   ]
  },
  {
   "cell_type": "code",
   "execution_count": 5,
   "metadata": {},
   "outputs": [],
   "source": [
    "target_cols = {}\n",
    "\n",
    "for col in headers:\n",
    "  if col.endswith('+') or col.endswith('-'):\n",
    "    target_cols[col] = []    "
   ]
  },
  {
   "cell_type": "code",
   "execution_count": 6,
   "metadata": {},
   "outputs": [
    {
     "data": {
      "text/plain": [
       "{'LOC+': [], ' AEXP-': [], ' PLEX-': [], ' RISK-': [], ' EFFORT-': []}"
      ]
     },
     "execution_count": 6,
     "metadata": {},
     "output_type": "execute_result"
    }
   ],
   "source": [
    "target_cols"
   ]
  },
  {
   "cell_type": "code",
   "execution_count": 7,
   "metadata": {},
   "outputs": [],
   "source": [
    "\n",
    "for row in data_rows:\n",
    "  for header in target_cols:\n",
    "    # print(header)\n",
    "    index = headers.index(header)\n",
    "    target_cols[header].append(float(row[index]))"
   ]
  },
  {
   "attachments": {},
   "cell_type": "markdown",
   "metadata": {},
   "source": [
    "#### Loc+"
   ]
  },
  {
   "cell_type": "code",
   "execution_count": 8,
   "metadata": {},
   "outputs": [
    {
     "data": {
      "text/plain": [
       "1013.05"
      ]
     },
     "execution_count": 8,
     "metadata": {},
     "output_type": "execute_result"
    }
   ],
   "source": [
    "sum(target_cols['LOC+'])/len(target_cols['LOC+'])"
   ]
  },
  {
   "cell_type": "code",
   "execution_count": 9,
   "metadata": {},
   "outputs": [
    {
     "data": {
      "image/png": "[encoded data removed]",
      "text/plain": [
       "<Figure size 1000x200 with 1 Axes>"
      ]
     },
     "metadata": {},
     "output_type": "display_data"
    }
   ],
   "source": [
    "fig = plt.figure(figsize =(10, 2))\n",
    " \n",
    "# Creating plot\n",
    "plt.boxplot(target_cols['LOC+'], vert=False)\n",
    " \n",
    "# show plot\n",
    "plt.show()"
   ]
  },
  {
   "attachments": {},
   "cell_type": "markdown",
   "metadata": {},
   "source": [
    "#### AEXP-"
   ]
  },
  {
   "cell_type": "code",
   "execution_count": 10,
   "metadata": {},
   "outputs": [
    {
     "data": {
      "text/plain": [
       "2.967"
      ]
     },
     "execution_count": 10,
     "metadata": {},
     "output_type": "execute_result"
    }
   ],
   "source": [
    "sum(target_cols[' AEXP-'])/len(target_cols[' AEXP-'])"
   ]
  },
  {
   "cell_type": "code",
   "execution_count": 11,
   "metadata": {},
   "outputs": [
    {
     "data": {
      "image/png": "[encoded data removed]",
      "text/plain": [
       "<Figure size 1000x200 with 1 Axes>"
      ]
     },
     "metadata": {},
     "output_type": "display_data"
    }
   ],
   "source": [
    "fig = plt.figure(figsize =(10, 2))\n",
    " \n",
    "# Creating plot\n",
    "plt.boxplot(target_cols[' AEXP-'], vert=False)\n",
    " \n",
    "# show plot\n",
    "plt.show()"
   ]
  },
  {
   "attachments": {},
   "cell_type": "markdown",
   "metadata": {},
   "source": [
    "#### PLEX-"
   ]
  },
  {
   "cell_type": "code",
   "execution_count": 12,
   "metadata": {},
   "outputs": [
    {
     "data": {
      "text/plain": [
       "3.045"
      ]
     },
     "execution_count": 12,
     "metadata": {},
     "output_type": "execute_result"
    }
   ],
   "source": [
    "sum(target_cols[' PLEX-'])/len(target_cols[' PLEX-'])"
   ]
  },
  {
   "cell_type": "code",
   "execution_count": 13,
   "metadata": {},
   "outputs": [
    {
     "data": {
      "image/png": "[encoded data removed]",
      "text/plain": [
       "<Figure size 1000x200 with 1 Axes>"
      ]
     },
     "metadata": {},
     "output_type": "display_data"
    }
   ],
   "source": [
    "fig = plt.figure(figsize =(10, 2))\n",
    " \n",
    "# Creating plot\n",
    "plt.boxplot(target_cols[' PLEX-'], vert=False)\n",
    " \n",
    "# show plot\n",
    "plt.show()"
   ]
  },
  {
   "attachments": {},
   "cell_type": "markdown",
   "metadata": {},
   "source": [
    "#### Risk-"
   ]
  },
  {
   "cell_type": "code",
   "execution_count": 14,
   "metadata": {},
   "outputs": [
    {
     "data": {
      "text/plain": [
       "6.683"
      ]
     },
     "execution_count": 14,
     "metadata": {},
     "output_type": "execute_result"
    }
   ],
   "source": [
    "sum(target_cols[' RISK-'])/len(target_cols[' RISK-'])"
   ]
  },
  {
   "cell_type": "code",
   "execution_count": 15,
   "metadata": {},
   "outputs": [
    {
     "data": {
      "image/png": "[encoded data removed]",
      "text/plain": [
       "<Figure size 1000x200 with 1 Axes>"
      ]
     },
     "metadata": {},
     "output_type": "display_data"
    }
   ],
   "source": [
    "fig = plt.figure(figsize =(10, 2))\n",
    " \n",
    "# Creating plot\n",
    "plt.boxplot(target_cols[' RISK-'], vert=False)\n",
    " \n",
    "# show plot\n",
    "plt.show()"
   ]
  },
  {
   "attachments": {},
   "cell_type": "markdown",
   "metadata": {},
   "source": [
    "#### Effort-"
   ]
  },
  {
   "cell_type": "code",
   "execution_count": 16,
   "metadata": {},
   "outputs": [
    {
     "data": {
      "text/plain": [
       "30807.503"
      ]
     },
     "execution_count": 16,
     "metadata": {},
     "output_type": "execute_result"
    }
   ],
   "source": [
    "sum(target_cols[' EFFORT-'])/len(target_cols[' EFFORT-'])"
   ]
  },
  {
   "cell_type": "code",
   "execution_count": 17,
   "metadata": {},
   "outputs": [
    {
     "data": {
      "image/png": "[encoded data removed]",
      "text/plain": [
       "<Figure size 700x200 with 1 Axes>"
      ]
     },
     "metadata": {},
     "output_type": "display_data"
    }
   ],
   "source": [
    "fig = plt.figure(figsize =(7, 2))\n",
    " \n",
    "# Creating plot\n",
    "plt.boxplot(target_cols[' EFFORT-'], vert=False)\n",
    " \n",
    "# show plot\n",
    "plt.show()"
   ]
  },
  {
   "cell_type": "code",
   "execution_count": 18,
   "metadata": {},
   "outputs": [
    {
     "name": "stdout",
     "output_type": "stream",
     "text": [
      "LOC+\n",
      "mean: 1013.05\n",
      "median: 1060.5\n",
      "mode: 720.0\n",
      "std dev: 571.3543167380949\n",
      "\n",
      " AEXP-\n",
      "mean: 2.967\n",
      "median: 3.0\n",
      "mode: 2.0\n",
      "std dev: 1.1963872041869816\n",
      "\n",
      " PLEX-\n",
      "mean: 3.045\n",
      "median: 3.0\n",
      "mode: 4.0\n",
      "std dev: 1.2355166941411604\n",
      "\n",
      " RISK-\n",
      "mean: 6.683\n",
      "median: 5.0\n",
      "mode: 0.0\n",
      "std dev: 6.372999774527387\n",
      "\n",
      " EFFORT-\n",
      "mean: 30807.503\n",
      "median: 19642.0\n",
      "mode: 33906.0\n",
      "std dev: 33883.81076274918\n",
      "\n"
     ]
    }
   ],
   "source": [
    "import statistics\n",
    "for col in target_cols.keys():\n",
    "  print(col)\n",
    "  print('mean:', statistics.mean(target_cols[col]))\n",
    "  print('median:', statistics.median(target_cols[col]))\n",
    "  print('mode:', statistics.mode(target_cols[col]))\n",
    "  print('std dev:', statistics.stdev(target_cols[col]))\n",
    "  print()"
   ]
  }
 ],
 "metadata": {
  "kernelspec": {
   "display_name": "Python 3",
   "language": "python",
   "name": "python3"
  },
  "language_info": {
   "codemirror_mode": {
    "name": "ipython",
    "version": 3
   },
   "file_extension": ".py",
   "mimetype": "text/x-python",
   "name": "python",
   "nbconvert_exporter": "python",
   "pygments_lexer": "ipython3",
   "version": "3.10.6"
  },
  "orig_nbformat": 4
 },
 "nbformat": 4,
 "nbformat_minor": 2
}
