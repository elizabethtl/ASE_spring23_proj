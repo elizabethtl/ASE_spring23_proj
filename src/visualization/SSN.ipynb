{
 "cells": [
  {
   "cell_type": "code",
   "execution_count": 1,
   "metadata": {},
   "outputs": [],
   "source": [
    "import matplotlib.pyplot as plt\n",
    "import csv\n",
    "\n",
    "import os\n",
    "# dir_path = os.path.abspath(os.path.dirname(__file__))\n",
    "dir_path = '/home/etlin/Documents/ncsu/spring2023_csc791_ase/ASE_spring23_proj/data'"
   ]
  },
  {
   "attachments": {},
   "cell_type": "markdown",
   "metadata": {},
   "source": [
    "## SSN.csv"
   ]
  },
  {
   "cell_type": "code",
   "execution_count": 2,
   "metadata": {},
   "outputs": [],
   "source": [
    "headers = []\n",
    "data_rows = []\n",
    "\n",
    "with open(dir_path+'/SSN.csv', newline='') as csvfile:\n",
    "  file_data = csv.reader(csvfile, delimiter=',')\n",
    "  count = 0\n",
    "  for row in file_data:\n",
    "    count += 1\n",
    "    if count == 1:\n",
    "      headers = row\n",
    "    else:\n",
    "      data_rows.append(row)"
   ]
  },
  {
   "cell_type": "code",
   "execution_count": 3,
   "metadata": {},
   "outputs": [
    {
     "data": {
      "text/plain": [
       "53663"
      ]
     },
     "execution_count": 3,
     "metadata": {},
     "output_type": "execute_result"
    }
   ],
   "source": [
    "count"
   ]
  },
  {
   "cell_type": "code",
   "execution_count": 4,
   "metadata": {},
   "outputs": [
    {
     "data": {
      "text/plain": [
       "['no_mbtree',\n",
       " 'no_asm',\n",
       " 'no_cabac',\n",
       " 'no_scenecut',\n",
       " 'Aq_strength',\n",
       " 'Bframes',\n",
       " 'Qcomp',\n",
       " 'Qp',\n",
       " 'Ref',\n",
       " 'Rc_lookahead',\n",
       " 'B_bias',\n",
       " 'Threads',\n",
       " 'Keyint',\n",
       " 'Crf',\n",
       " 'Scenecut',\n",
       " 'Seek',\n",
       " 'Ipratio',\n",
       " 'PSNR-',\n",
       " ' Energy-']"
      ]
     },
     "execution_count": 4,
     "metadata": {},
     "output_type": "execute_result"
    }
   ],
   "source": [
    "headers"
   ]
  },
  {
   "cell_type": "code",
   "execution_count": 5,
   "metadata": {},
   "outputs": [],
   "source": [
    "target_cols = {}\n",
    "\n",
    "for col in headers:\n",
    "  if col.endswith('+') or col.endswith('-'):\n",
    "    target_cols[col] = []    "
   ]
  },
  {
   "cell_type": "code",
   "execution_count": 6,
   "metadata": {},
   "outputs": [
    {
     "data": {
      "text/plain": [
       "{'PSNR-': [], ' Energy-': []}"
      ]
     },
     "execution_count": 6,
     "metadata": {},
     "output_type": "execute_result"
    }
   ],
   "source": [
    "target_cols"
   ]
  },
  {
   "cell_type": "code",
   "execution_count": 7,
   "metadata": {},
   "outputs": [],
   "source": [
    "\n",
    "for row in data_rows:\n",
    "  for header in target_cols:\n",
    "    # print(header)\n",
    "    index = headers.index(header)\n",
    "    target_cols[header].append(float(row[index]))"
   ]
  },
  {
   "attachments": {},
   "cell_type": "markdown",
   "metadata": {},
   "source": [
    "#### PSNR-"
   ]
  },
  {
   "cell_type": "code",
   "execution_count": 8,
   "metadata": {},
   "outputs": [
    {
     "data": {
      "text/plain": [
       "44.525988747968746"
      ]
     },
     "execution_count": 8,
     "metadata": {},
     "output_type": "execute_result"
    }
   ],
   "source": [
    "sum(target_cols['PSNR-'])/len(target_cols['PSNR-'])"
   ]
  },
  {
   "cell_type": "code",
   "execution_count": 9,
   "metadata": {},
   "outputs": [
    {
     "data": {
      "image/png": "[encoded data removed]",
      "text/plain": [
       "<Figure size 1000x200 with 1 Axes>"
      ]
     },
     "metadata": {},
     "output_type": "display_data"
    }
   ],
   "source": [
    "fig = plt.figure(figsize =(10, 2))\n",
    " \n",
    "# Creating plot\n",
    "plt.boxplot(target_cols['PSNR-'], vert=False)\n",
    " \n",
    "# show plot\n",
    "plt.show()"
   ]
  },
  {
   "attachments": {},
   "cell_type": "markdown",
   "metadata": {},
   "source": [
    "#### Energy-"
   ]
  },
  {
   "cell_type": "code",
   "execution_count": 10,
   "metadata": {},
   "outputs": [
    {
     "data": {
      "text/plain": [
       "1658.000698370308"
      ]
     },
     "execution_count": 10,
     "metadata": {},
     "output_type": "execute_result"
    }
   ],
   "source": [
    "sum(target_cols[' Energy-'])/len(target_cols[' Energy-'])"
   ]
  },
  {
   "cell_type": "code",
   "execution_count": 11,
   "metadata": {},
   "outputs": [
    {
     "data": {
      "image/png": "[encoded data removed]",
      "text/plain": [
       "<Figure size 1000x200 with 1 Axes>"
      ]
     },
     "metadata": {},
     "output_type": "display_data"
    }
   ],
   "source": [
    "fig = plt.figure(figsize =(10, 2))\n",
    " \n",
    "# Creating plot\n",
    "plt.boxplot(target_cols[' Energy-'], vert=False)\n",
    " \n",
    "# show plot\n",
    "plt.show()"
   ]
  },
  {
   "cell_type": "code",
   "execution_count": 12,
   "metadata": {},
   "outputs": [
    {
     "name": "stdout",
     "output_type": "stream",
     "text": [
      "PSNR-\n",
      "mean: 44.52598874796802\n",
      "median: 45.907\n",
      "mode: 45.979\n",
      "std dev: 6.471498168764323\n",
      "\n",
      " Energy-\n",
      "mean: 1658.0006983702913\n",
      "median: 1258.0890255\n",
      "mode: 0.0\n",
      "std dev: 1610.6629546623517\n",
      "\n"
     ]
    }
   ],
   "source": [
    "import statistics\n",
    "for col in target_cols.keys():\n",
    "  print(col)\n",
    "  print('mean:', statistics.mean(target_cols[col]))\n",
    "  print('median:', statistics.median(target_cols[col]))\n",
    "  print('mode:', statistics.mode(target_cols[col]))\n",
    "  print('std dev:', statistics.stdev(target_cols[col]))\n",
    "  print()"
   ]
  }
 ],
 "metadata": {
  "kernelspec": {
   "display_name": "Python 3",
   "language": "python",
   "name": "python3"
  },
  "language_info": {
   "codemirror_mode": {
    "name": "ipython",
    "version": 3
   },
   "file_extension": ".py",
   "mimetype": "text/x-python",
   "name": "python",
   "nbconvert_exporter": "python",
   "pygments_lexer": "ipython3",
   "version": "3.10.6"
  },
  "orig_nbformat": 4
 },
 "nbformat": 4,
 "nbformat_minor": 2
}
