{
 "cells": [
  {
   "cell_type": "code",
   "execution_count": 1,
   "metadata": {},
   "outputs": [],
   "source": [
    "import matplotlib.pyplot as plt\n",
    "import csv\n",
    "\n",
    "import os\n",
    "# dir_path = os.path.abspath(os.path.dirname(__file__))\n",
    "dir_path = '/home/etlin/Documents/ncsu/spring2023_csc791_ase/ASE_spring23_proj/data'"
   ]
  },
  {
   "attachments": {},
   "cell_type": "markdown",
   "metadata": {},
   "source": [
    "## SSM.csv"
   ]
  },
  {
   "cell_type": "code",
   "execution_count": 2,
   "metadata": {},
   "outputs": [],
   "source": [
    "headers = []\n",
    "data_rows = []\n",
    "\n",
    "with open(dir_path+'/SSM.csv', newline='') as csvfile:\n",
    "  file_data = csv.reader(csvfile, delimiter=',')\n",
    "  count = 0\n",
    "  for row in file_data:\n",
    "    count += 1\n",
    "    if count == 1:\n",
    "      headers = row\n",
    "    else:\n",
    "      data_rows.append(row)"
   ]
  },
  {
   "cell_type": "code",
   "execution_count": 3,
   "metadata": {},
   "outputs": [
    {
     "data": {
      "text/plain": [
       "239361"
      ]
     },
     "execution_count": 3,
     "metadata": {},
     "output_type": "execute_result"
    }
   ],
   "source": [
    "count"
   ]
  },
  {
   "cell_type": "code",
   "execution_count": 4,
   "metadata": {},
   "outputs": [
    {
     "data": {
      "text/plain": [
       "['f',\n",
       " 'sMOOTHER',\n",
       " 'cOLORGS',\n",
       " 'rELAXPARAMETER',\n",
       " 'v',\n",
       " 'jACOBI',\n",
       " 'lINE',\n",
       " 'zEBRALINE',\n",
       " 'cYCLE',\n",
       " 'ALPHA',\n",
       " 'BETA',\n",
       " 'PRESMOOTHING',\n",
       " 'POSTSMOOTHING',\n",
       " 'NUMBERITERATIONS-',\n",
       " ' TIMETOSOLUTION- ']"
      ]
     },
     "execution_count": 4,
     "metadata": {},
     "output_type": "execute_result"
    }
   ],
   "source": [
    "headers"
   ]
  },
  {
   "cell_type": "code",
   "execution_count": 5,
   "metadata": {},
   "outputs": [],
   "source": [
    "target_cols = {}\n",
    "\n",
    "for col in headers:\n",
    "  if col.endswith('+') or col.endswith('-'):\n",
    "    target_cols[col] = []    "
   ]
  },
  {
   "cell_type": "code",
   "execution_count": 6,
   "metadata": {},
   "outputs": [
    {
     "data": {
      "text/plain": [
       "{'NUMBERITERATIONS-': []}"
      ]
     },
     "execution_count": 6,
     "metadata": {},
     "output_type": "execute_result"
    }
   ],
   "source": [
    "target_cols"
   ]
  },
  {
   "cell_type": "code",
   "execution_count": 7,
   "metadata": {},
   "outputs": [],
   "source": [
    "\n",
    "for row in data_rows:\n",
    "  for header in target_cols:\n",
    "    # print(header)\n",
    "    index = headers.index(header)\n",
    "    target_cols[header].append(float(row[index]))"
   ]
  },
  {
   "attachments": {},
   "cell_type": "markdown",
   "metadata": {},
   "source": [
    "#### NUMBERITERATIONS-"
   ]
  },
  {
   "cell_type": "code",
   "execution_count": 8,
   "metadata": {},
   "outputs": [
    {
     "data": {
      "text/plain": [
       "30.94172794117647"
      ]
     },
     "execution_count": 8,
     "metadata": {},
     "output_type": "execute_result"
    }
   ],
   "source": [
    "sum(target_cols['NUMBERITERATIONS-'])/len(target_cols['NUMBERITERATIONS-'])"
   ]
  },
  {
   "cell_type": "code",
   "execution_count": 9,
   "metadata": {},
   "outputs": [
    {
     "data": {
      "image/png": "[encoded data removed]",
      "text/plain": [
       "<Figure size 1000x200 with 1 Axes>"
      ]
     },
     "metadata": {},
     "output_type": "display_data"
    }
   ],
   "source": [
    "fig = plt.figure(figsize =(10, 2))\n",
    " \n",
    "# Creating plot\n",
    "plt.boxplot(target_cols['NUMBERITERATIONS-'], vert=False)\n",
    " \n",
    "# show plot\n",
    "plt.show()"
   ]
  },
  {
   "cell_type": "code",
   "execution_count": 10,
   "metadata": {},
   "outputs": [
    {
     "name": "stdout",
     "output_type": "stream",
     "text": [
      "NUMBERITERATIONS-\n",
      "mean: 30.94172794117647\n",
      "median: 7.0\n",
      "mode: 5.0\n",
      "std dev: 94.52515041918998\n",
      "\n"
     ]
    }
   ],
   "source": [
    "import statistics\n",
    "for col in target_cols.keys():\n",
    "  print(col)\n",
    "  print('mean:', statistics.mean(target_cols[col]))\n",
    "  print('median:', statistics.median(target_cols[col]))\n",
    "  print('mode:', statistics.mode(target_cols[col]))\n",
    "  print('std dev:', statistics.stdev(target_cols[col]))\n",
    "  print()"
   ]
  }
 ],
 "metadata": {
  "kernelspec": {
   "display_name": "Python 3",
   "language": "python",
   "name": "python3"
  },
  "language_info": {
   "codemirror_mode": {
    "name": "ipython",
    "version": 3
   },
   "file_extension": ".py",
   "mimetype": "text/x-python",
   "name": "python",
   "nbconvert_exporter": "python",
   "pygments_lexer": "ipython3",
   "version": "3.10.6"
  },
  "orig_nbformat": 4
 },
 "nbformat": 4,
 "nbformat_minor": 2
}
